{
 "cells": [
  {
   "cell_type": "markdown",
   "id": "0179f989",
   "metadata": {},
   "source": [
    "# String"
   ]
  },
  {
   "cell_type": "code",
   "execution_count": 1,
   "id": "bf595129",
   "metadata": {},
   "outputs": [
    {
     "data": {
      "text/plain": [
       "'EzyMentor'"
      ]
     },
     "execution_count": 1,
     "metadata": {},
     "output_type": "execute_result"
    }
   ],
   "source": [
    "#Strings in python are used to represent unicode character values.a single charactor is also considered as a string.\n",
    "#we denote or declare the string values inside single quotes or double quotes.\n",
    "#To access the values in a string,we use the indexes and square brackets.\n",
    "string = 'EzyMentor'\n",
    "string"
   ]
  },
  {
   "cell_type": "code",
   "execution_count": 3,
   "id": "7aef19ba",
   "metadata": {},
   "outputs": [
    {
     "data": {
      "text/plain": [
       "'e'"
      ]
     },
     "execution_count": 3,
     "metadata": {},
     "output_type": "execute_result"
    }
   ],
   "source": [
    "#to Input for strings\n",
    "string[4]"
   ]
  },
  {
   "cell_type": "code",
   "execution_count": 4,
   "id": "763ffa16",
   "metadata": {},
   "outputs": [
    {
     "data": {
      "text/plain": [
       "'E'"
      ]
     },
     "execution_count": 4,
     "metadata": {},
     "output_type": "execute_result"
    }
   ],
   "source": [
    "string[0]"
   ]
  },
  {
   "cell_type": "code",
   "execution_count": 5,
   "id": "7a595919",
   "metadata": {},
   "outputs": [
    {
     "data": {
      "text/plain": [
       "'r'"
      ]
     },
     "execution_count": 5,
     "metadata": {},
     "output_type": "execute_result"
    }
   ],
   "source": [
    "string[8]"
   ]
  },
  {
   "cell_type": "code",
   "execution_count": 7,
   "id": "4f52d9d9",
   "metadata": {},
   "outputs": [
    {
     "name": "stdout",
     "output_type": "stream",
     "text": [
      "EzyMentor is easy\n"
     ]
    }
   ],
   "source": [
    "#to Input for strings\n",
    "x=input()\n"
   ]
  },
  {
   "cell_type": "markdown",
   "id": "75e34b4b",
   "metadata": {},
   "source": [
    "# Basic Operations using string"
   ]
  },
  {
   "cell_type": "code",
   "execution_count": 10,
   "id": "2bd2b0c6",
   "metadata": {},
   "outputs": [
    {
     "data": {
      "text/plain": [
       "'HAI FROM EZYMENTOR'"
      ]
     },
     "execution_count": 10,
     "metadata": {},
     "output_type": "execute_result"
    }
   ],
   "source": [
    "String = 'Hai From EzyMentor'\n",
    "#will make the letters to uppercase\n",
    "String.upper()\n",
    "\n",
    "\n"
   ]
  },
  {
   "cell_type": "code",
   "execution_count": 14,
   "id": "4ae3da2e",
   "metadata": {},
   "outputs": [
    {
     "data": {
      "text/plain": [
       "'hai from ezymentor'"
      ]
     },
     "execution_count": 14,
     "metadata": {},
     "output_type": "execute_result"
    }
   ],
   "source": [
    "#will make the letters to lowercase\n",
    "string.lower()\n",
    "'hai from ezymentor'\n"
   ]
  },
  {
   "cell_type": "code",
   "execution_count": 16,
   "id": "d702a675",
   "metadata": {},
   "outputs": [
    {
     "data": {
      "text/plain": [
       "'i From EzyMent'"
      ]
     },
     "execution_count": 16,
     "metadata": {},
     "output_type": "execute_result"
    }
   ],
   "source": [
    "#will return the strings starting at index 2 until the index 16.\n",
    "String[2:16]"
   ]
  },
  {
   "cell_type": "markdown",
   "id": "6943a4ca",
   "metadata": {},
   "source": [
    "# Complex data types"
   ]
  },
  {
   "cell_type": "markdown",
   "id": "c6091f84",
   "metadata": {},
   "source": [
    "# Lists"
   ]
  },
  {
   "cell_type": "markdown",
   "id": "3feac70f",
   "metadata": {},
   "source": []
  }
 ],
 "metadata": {
  "kernelspec": {
   "display_name": "Python 3 (ipykernel)",
   "language": "python",
   "name": "python3"
  },
  "language_info": {
   "codemirror_mode": {
    "name": "ipython",
    "version": 3
   },
   "file_extension": ".py",
   "mimetype": "text/x-python",
   "name": "python",
   "nbconvert_exporter": "python",
   "pygments_lexer": "ipython3",
   "version": "3.10.9"
  }
 },
 "nbformat": 4,
 "nbformat_minor": 5
}
